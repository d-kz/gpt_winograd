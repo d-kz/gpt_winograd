{
 "cells": [
  {
   "cell_type": "code",
   "execution_count": 63,
   "id": "2f6cc6ff",
   "metadata": {
    "ExecuteTime": {
     "end_time": "2023-03-16T22:38:29.635139Z",
     "start_time": "2023-03-16T22:38:27.323896Z"
    }
   },
   "outputs": [
    {
     "name": "stderr",
     "output_type": "stream",
     "text": [
      "Found cached dataset winograd_wsc (/Users/denis/.cache/huggingface/datasets/winograd_wsc/wsc285/0.0.0/0651311f3b6dda14889d9a063030a02458395ee50ab9f41cca4cd5a89c0c3dce)\n",
      "100%|█████████████████████████████████████████████████████████████████████████████████████████████████████████████████████████████████████████████████████| 1/1 [00:00<00:00, 66.14it/s]\n"
     ]
    },
    {
     "name": "stdout",
     "output_type": "stream",
     "text": [
      "0.9438596491228071\n",
      "0.6877192982456141\n"
     ]
    }
   ],
   "source": [
    "from datasets import list_datasets, load_dataset\n",
    "import pandas as pd\n",
    "dataset = load_dataset('winograd_wsc', 'wsc285')\n",
    "df = pd.DataFrame(dataset['test'])\n",
    "df['answer'] = df.apply(lambda x: x['options'][x['label']], axis=1)\n",
    "\n",
    "df_3 = pd.read_csv(\"gpt3_joined.csv\")\n",
    "df_3.columns = ['gpt3']\n",
    "\n",
    "import re\n",
    "df_4 = pd.read_csv(\"gpt4_answers\", header=None)\n",
    "df_4.columns = ['gpt4']\n",
    "df_4['gpt4'] = df_4['gpt4'].apply(lambda x: re.sub(\"'\", '', x))\n",
    "\n",
    "df['gpt4'] = df_4['gpt4']\n",
    "df['gpt3'] = df_3['gpt3']\n",
    "\n",
    "\n",
    "from difflib import SequenceMatcher\n",
    "def similar(a, b):\n",
    "    return SequenceMatcher(None, a, b).ratio()\n",
    "\n",
    "def evaluate(df, pred_col):\n",
    "    df[pred_col + \"_similarity\"] = df.apply(lambda x: similar(x['answer'].lower(), x[pred_col].lower()), axis=1)\n",
    "    df[pred_col + '_correct'] = 0\n",
    "    df.loc[df[pred_col + \"_similarity\"] > 0.75, pred_col + '_correct'] = 1\n",
    "    print(df[pred_col + '_correct'].mean())\n",
    "    return df\n",
    "\n",
    "df = evaluate(df, 'gpt4')\n",
    "df = evaluate(df, 'gpt3')"
   ]
  },
  {
   "cell_type": "code",
   "execution_count": 71,
   "id": "432a3e0b",
   "metadata": {
    "ExecuteTime": {
     "end_time": "2023-03-16T22:40:24.874467Z",
     "start_time": "2023-03-16T22:40:24.834023Z"
    }
   },
   "outputs": [
    {
     "data": {
      "text/html": [
       "<div>\n",
       "<style scoped>\n",
       "    .dataframe tbody tr th:only-of-type {\n",
       "        vertical-align: middle;\n",
       "    }\n",
       "\n",
       "    .dataframe tbody tr th {\n",
       "        vertical-align: top;\n",
       "    }\n",
       "\n",
       "    .dataframe thead th {\n",
       "        text-align: right;\n",
       "    }\n",
       "</style>\n",
       "<table border=\"1\" class=\"dataframe\">\n",
       "  <thead>\n",
       "    <tr style=\"text-align: right;\">\n",
       "      <th></th>\n",
       "      <th>text</th>\n",
       "      <th>quote</th>\n",
       "      <th>options</th>\n",
       "      <th>answer</th>\n",
       "    </tr>\n",
       "  </thead>\n",
       "  <tbody>\n",
       "    <tr>\n",
       "      <th>50</th>\n",
       "      <td>Joe's uncle can still beat him at tennis, even though he is 30 years younger.</td>\n",
       "      <td>he is 30 years younger.</td>\n",
       "      <td>[Joe, Joe's uncle]</td>\n",
       "      <td>Joe</td>\n",
       "    </tr>\n",
       "    <tr>\n",
       "      <th>51</th>\n",
       "      <td>Joe's uncle can still beat him at tennis, even though he is 30 years older.</td>\n",
       "      <td>he is 30 years older.</td>\n",
       "      <td>[Joe, Joe's uncle]</td>\n",
       "      <td>Joe's uncle</td>\n",
       "    </tr>\n",
       "    <tr>\n",
       "      <th>192</th>\n",
       "      <td>I stuck a pin through a carrot. When I pulled the pin out, it left a hole.</td>\n",
       "      <td>it left a hole</td>\n",
       "      <td>[The pin, The carrot]</td>\n",
       "      <td>The pin</td>\n",
       "    </tr>\n",
       "    <tr>\n",
       "      <th>193</th>\n",
       "      <td>I stuck a pin through a carrot. When I pulled the pin out, it had a hole.</td>\n",
       "      <td>it had a hole</td>\n",
       "      <td>[The pin, The carrot]</td>\n",
       "      <td>The carrot</td>\n",
       "    </tr>\n",
       "    <tr>\n",
       "      <th>206</th>\n",
       "      <td>Sam Goodman's biography of the Spartan general Xenophanes conveys a vivid sense of the difficulties he faced in his research.</td>\n",
       "      <td>difficulties he faced</td>\n",
       "      <td>[Goodman, Xenophanes]</td>\n",
       "      <td>Goodman</td>\n",
       "    </tr>\n",
       "    <tr>\n",
       "      <th>217</th>\n",
       "      <td>Jim signaled the barman and gestured toward his bathroom key.</td>\n",
       "      <td>his bathroom key</td>\n",
       "      <td>[Jim, The barman]</td>\n",
       "      <td>The barman</td>\n",
       "    </tr>\n",
       "    <tr>\n",
       "      <th>218</th>\n",
       "      <td>Dan took the rear seat while Bill claimed the front because his \"Dibs!\" was slow.</td>\n",
       "      <td>his \"Dibs!\"</td>\n",
       "      <td>[Dan, Bill]</td>\n",
       "      <td>Dan</td>\n",
       "    </tr>\n",
       "    <tr>\n",
       "      <th>219</th>\n",
       "      <td>Dan took the rear seat while Bill claimed the front because his \"Dibs!\" was quicker.</td>\n",
       "      <td>his \"Dibs!\"</td>\n",
       "      <td>[Dan, Bill]</td>\n",
       "      <td>Bill</td>\n",
       "    </tr>\n",
       "    <tr>\n",
       "      <th>233</th>\n",
       "      <td>Patting her back, the woman smiled at the girl.</td>\n",
       "      <td>her back</td>\n",
       "      <td>[The woman, The girl]</td>\n",
       "      <td>The girl</td>\n",
       "    </tr>\n",
       "    <tr>\n",
       "      <th>247</th>\n",
       "      <td>Pam's parents came home and found her having sex with her boyfriend, Paul. They were embarrassed about it.</td>\n",
       "      <td>They were embarrassed</td>\n",
       "      <td>[Pam's parents, Pam and Paul]</td>\n",
       "      <td>Pam and Paul</td>\n",
       "    </tr>\n",
       "    <tr>\n",
       "      <th>258</th>\n",
       "      <td>I tried to paint a picture of an orchard, with lemons in the lemon trees, but they came out looking more like telephone poles.</td>\n",
       "      <td>they came out</td>\n",
       "      <td>[lemons, lemon trees]</td>\n",
       "      <td>lemon trees</td>\n",
       "    </tr>\n",
       "    <tr>\n",
       "      <th>268</th>\n",
       "      <td>Madonna fired her trainer because she slept with her boyfriend.</td>\n",
       "      <td>she slept</td>\n",
       "      <td>[Madonna, The trainer]</td>\n",
       "      <td>The trainer</td>\n",
       "    </tr>\n",
       "    <tr>\n",
       "      <th>269</th>\n",
       "      <td>Madonna fired her trainer because she slept with her boyfriend.</td>\n",
       "      <td>her boyfriend</td>\n",
       "      <td>[Madonna, The trainer]</td>\n",
       "      <td>Madonna</td>\n",
       "    </tr>\n",
       "    <tr>\n",
       "      <th>274</th>\n",
       "      <td>This book introduced Shakespeare to Goethe; it was a major influence on his writing.</td>\n",
       "      <td>his writing.</td>\n",
       "      <td>[Shakespeare, Goethe]</td>\n",
       "      <td>Goethe</td>\n",
       "    </tr>\n",
       "    <tr>\n",
       "      <th>276</th>\n",
       "      <td>This book introduced Shakespeare to Goethe; it was a fine selection of his writing.</td>\n",
       "      <td>his writing.</td>\n",
       "      <td>[Shakespeare, Goethe]</td>\n",
       "      <td>Shakespeare</td>\n",
       "    </tr>\n",
       "    <tr>\n",
       "      <th>281</th>\n",
       "      <td>At the Loebner competition the judges couldn't figure out which respondents were the chatbots because they were so stupid.</td>\n",
       "      <td>they were so stupid.</td>\n",
       "      <td>[the judges, the chatbots]</td>\n",
       "      <td>the judges</td>\n",
       "    </tr>\n",
       "  </tbody>\n",
       "</table>\n",
       "</div>"
      ],
      "text/plain": [
       "                                                                                                                               text                    quote                        options        answer\n",
       "50                                                    Joe's uncle can still beat him at tennis, even though he is 30 years younger.  he is 30 years younger.             [Joe, Joe's uncle]           Joe\n",
       "51                                                      Joe's uncle can still beat him at tennis, even though he is 30 years older.    he is 30 years older.             [Joe, Joe's uncle]   Joe's uncle\n",
       "192                                                      I stuck a pin through a carrot. When I pulled the pin out, it left a hole.           it left a hole          [The pin, The carrot]       The pin\n",
       "193                                                       I stuck a pin through a carrot. When I pulled the pin out, it had a hole.            it had a hole          [The pin, The carrot]    The carrot\n",
       "206   Sam Goodman's biography of the Spartan general Xenophanes conveys a vivid sense of the difficulties he faced in his research.    difficulties he faced          [Goodman, Xenophanes]       Goodman\n",
       "217                                                                   Jim signaled the barman and gestured toward his bathroom key.         his bathroom key              [Jim, The barman]    The barman\n",
       "218                                               Dan took the rear seat while Bill claimed the front because his \"Dibs!\" was slow.              his \"Dibs!\"                    [Dan, Bill]           Dan\n",
       "219                                            Dan took the rear seat while Bill claimed the front because his \"Dibs!\" was quicker.              his \"Dibs!\"                    [Dan, Bill]          Bill\n",
       "233                                                                                 Patting her back, the woman smiled at the girl.                 her back          [The woman, The girl]      The girl\n",
       "247                      Pam's parents came home and found her having sex with her boyfriend, Paul. They were embarrassed about it.    They were embarrassed  [Pam's parents, Pam and Paul]  Pam and Paul\n",
       "258  I tried to paint a picture of an orchard, with lemons in the lemon trees, but they came out looking more like telephone poles.            they came out          [lemons, lemon trees]   lemon trees\n",
       "268                                                                 Madonna fired her trainer because she slept with her boyfriend.                she slept         [Madonna, The trainer]   The trainer\n",
       "269                                                                 Madonna fired her trainer because she slept with her boyfriend.            her boyfriend         [Madonna, The trainer]       Madonna\n",
       "274                                            This book introduced Shakespeare to Goethe; it was a major influence on his writing.             his writing.          [Shakespeare, Goethe]        Goethe\n",
       "276                                             This book introduced Shakespeare to Goethe; it was a fine selection of his writing.             his writing.          [Shakespeare, Goethe]   Shakespeare\n",
       "281      At the Loebner competition the judges couldn't figure out which respondents were the chatbots because they were so stupid.     they were so stupid.     [the judges, the chatbots]    the judges"
      ]
     },
     "metadata": {},
     "output_type": "display_data"
    }
   ],
   "source": [
    "pd.set_option('max_colwidth', 800)\n",
    "display(df.loc[df['gpt4_correct'] == 0][['text', 'quote', 'options', 'answer']])"
   ]
  },
  {
   "cell_type": "code",
   "execution_count": null,
   "id": "9a6dd32f",
   "metadata": {},
   "outputs": [],
   "source": []
  }
 ],
 "metadata": {
  "hide_input": false,
  "kernelspec": {
   "display_name": "Python 3 (ipykernel)",
   "language": "python",
   "name": "python3"
  },
  "language_info": {
   "codemirror_mode": {
    "name": "ipython",
    "version": 3
   },
   "file_extension": ".py",
   "mimetype": "text/x-python",
   "name": "python",
   "nbconvert_exporter": "python",
   "pygments_lexer": "ipython3",
   "version": "3.10.6"
  },
  "toc": {
   "base_numbering": 1,
   "nav_menu": {},
   "number_sections": true,
   "sideBar": true,
   "skip_h1_title": false,
   "title_cell": "Table of Contents",
   "title_sidebar": "Contents",
   "toc_cell": false,
   "toc_position": {},
   "toc_section_display": true,
   "toc_window_display": false
  },
  "varInspector": {
   "cols": {
    "lenName": 16,
    "lenType": 16,
    "lenVar": 40
   },
   "kernels_config": {
    "python": {
     "delete_cmd_postfix": "",
     "delete_cmd_prefix": "del ",
     "library": "var_list.py",
     "varRefreshCmd": "print(var_dic_list())"
    },
    "r": {
     "delete_cmd_postfix": ") ",
     "delete_cmd_prefix": "rm(",
     "library": "var_list.r",
     "varRefreshCmd": "cat(var_dic_list()) "
    }
   },
   "types_to_exclude": [
    "module",
    "function",
    "builtin_function_or_method",
    "instance",
    "_Feature"
   ],
   "window_display": false
  }
 },
 "nbformat": 4,
 "nbformat_minor": 5
}
